{
 "cells": [
  {
   "cell_type": "code",
   "execution_count": 8,
   "id": "ac51d0a4",
   "metadata": {},
   "outputs": [
    {
     "name": "stdout",
     "output_type": "stream",
     "text": [
      "{'age': 25, 'city': 'New york'}\n"
     ]
    }
   ],
   "source": [
    "# 1. Delete a list of keys from a dictionary \n",
    "sample_dict = {\"name\": \"Kelly\",\"age\": 25, \"salary\": 8000, \"city\": \"New york\"} \n",
    "# # Keys to remove \n",
    "# keys = [\"name\", \"salary\"] \n",
    "res={}\n",
    "for x,y in sample_dict.items():\n",
    "    if x not in (\"name\",\"salary\"):\n",
    "        res[x]=y\n",
    "print(res)\n"
   ]
  },
  {
   "cell_type": "code",
   "execution_count": 18,
   "id": "5351adec",
   "metadata": {},
   "outputs": [
    {
     "name": "stdout",
     "output_type": "stream",
     "text": [
      "{'p': 1, 'r': 2, 'o': 1, 'g': 2, 'a': 1, 'm': 2, 'i': 1, 'n': 1}\n"
     ]
    }
   ],
   "source": [
    "#Count the frequency of each character in a given string using a dictionary.\n",
    "a=\"programming\" #\"connect\"\n",
    "a=list(a)\n",
    "res={}\n",
    "for x in a:\n",
    "    if x not in res:\n",
    "        res[x]=a.count(x)\n",
    "print(res)"
   ]
  },
  {
   "cell_type": "code",
   "execution_count": 20,
   "id": "104b88b4",
   "metadata": {},
   "outputs": [
    {
     "name": "stdout",
     "output_type": "stream",
     "text": [
      "{'p': 1, 'r': 2, 'o': 1, 'g': 2, 'a': 1, 'm': 2, 'i': 1, 'n': 1}\n"
     ]
    }
   ],
   "source": [
    "#Count the frequency of each character in a given string using a dictionary.\n",
    "a=\"programming\" #\"connect\"\n",
    "res={}\n",
    "for x in a:\n",
    "    if x not in res:\n",
    "        res[x]=1\n",
    "    else:\n",
    "        res[x]+=1\n",
    "print(res)"
   ]
  },
  {
   "cell_type": "code",
   "execution_count": 21,
   "id": "e53da213",
   "metadata": {},
   "outputs": [
    {
     "name": "stdout",
     "output_type": "stream",
     "text": [
      "{'Kelly': 'name', 25: 'age', 8000: 'salary', 'New york': 'city'}\n"
     ]
    }
   ],
   "source": [
    "#Swap keys and values in a dictionary. \n",
    "a= {\"name\": \"Kelly\",\"age\": 25, \"salary\": 8000, \"city\": \"New york\"} \n",
    "res={}\n",
    "for x,y in a.items():\n",
    "    res[y]=x\n",
    "print(res)\n"
   ]
  },
  {
   "cell_type": "code",
   "execution_count": 25,
   "id": "1c50cca3",
   "metadata": {},
   "outputs": [
    {
     "name": "stdout",
     "output_type": "stream",
     "text": [
      "8110\n"
     ]
    }
   ],
   "source": [
    "#Write a program to sum all the values in a dictionary. \n",
    "a= {\"age\": 25, \"salary\": 8000, \"marks\": 85} \n",
    "res=0\n",
    "for x in a.values():\n",
    "    res+=x\n",
    "print(res)\n"
   ]
  },
  {
   "cell_type": "code",
   "execution_count": 36,
   "id": "1c0aa049",
   "metadata": {},
   "outputs": [
    {
     "name": "stdout",
     "output_type": "stream",
     "text": [
      "{0: {'name': 'vinod', 'roll': 96, 'marks': '100'}}\n"
     ]
    }
   ],
   "source": [
    "#Create a nested dictionary for student details (name, roll, marks). \n",
    "res={}\n",
    "number_of_students=int(input())\n",
    "for x in range(number_of_students):\n",
    "    res[x]={\"name\":input(\"enter name\"),\"roll\":int(input(\"enter roll\")),\"marks\":input(\"enter marks\")}\n",
    "print(res)\n"
   ]
  },
  {
   "cell_type": "code",
   "execution_count": null,
   "id": "ffbe3a58",
   "metadata": {},
   "outputs": [
    {
     "name": "stdout",
     "output_type": "stream",
     "text": [
      "[('age', 25), ('salary', 8000), ('marks', 85)]\n"
     ]
    }
   ],
   "source": [
    "#Convert a dictionary to a list of tuples. \n",
    "a= {\"age\": 25, \"salary\": 8000, \"marks\": 85} \n",
    "b=[]\n",
    "for x in a.items():\n",
    "    b.append(x)   \n",
    "print(b)\n",
    "\n"
   ]
  },
  {
   "cell_type": "code",
   "execution_count": 43,
   "id": "be0d77cb",
   "metadata": {},
   "outputs": [
    {
     "name": "stdout",
     "output_type": "stream",
     "text": [
      "{'age': 3, 'salary': 6, 'marks': 5}\n"
     ]
    }
   ],
   "source": [
    "#Write a program to store names as keys and their lengths as values. \n",
    "a= {\"age\": 25, \"salary\": 8000, \"marks\": 85} \n",
    "b={}\n",
    "for x in a.keys():\n",
    "    b[x]=len(x)\n",
    "print(b)"
   ]
  },
  {
   "cell_type": "code",
   "execution_count": 45,
   "id": "f926d003",
   "metadata": {},
   "outputs": [
    {
     "name": "stdout",
     "output_type": "stream",
     "text": [
      "{1: 'odd', 2: 'even', 3: 'odd', 52: 'even', 5: 'odd', 6: 'even', 45: 'odd'}\n"
     ]
    }
   ],
   "source": [
    "# #Create a dictionary for numbers 1 to 5, where the value is \"even\" if the number is even, and \n",
    "# \"odd\" if the number is odd \n",
    "# Expected Output: \n",
    "# {1: 'odd', 2: 'even', 3: 'odd', 4: 'even', 5: 'odd'} \n",
    "a={1,2,3,5,45,6,52}\n",
    "res={}\n",
    "for x in a:\n",
    "    if x%2==0:\n",
    "        res[x]=\"even\"\n",
    "    else:\n",
    "        res[x]=\"odd\"\n",
    "print(res)\n"
   ]
  },
  {
   "cell_type": "code",
   "execution_count": 46,
   "id": "4fca65b1",
   "metadata": {},
   "outputs": [
    {
     "name": "stdout",
     "output_type": "stream",
     "text": [
      "{'cat': 'tac', 'dog': 'god', 'bat': 'tab'}\n"
     ]
    }
   ],
   "source": [
    "# # Create Reverse Word Dictionary \n",
    "# Given list of words: \n",
    "words = [\"cat\", \"dog\", \"bat\"] \n",
    "# Create a dictionary with words as keys and their reversed strings as values \n",
    "# Expected Output: \n",
    "# {'cat': 'tac', 'dog': 'god', 'bat': 'tab'}\n",
    "res={}\n",
    "for x in words:\n",
    "    res[x]=x[::-1]\n",
    "print(res)\n",
    "\n"
   ]
  },
  {
   "cell_type": "code",
   "execution_count": null,
   "id": "4afb8c40",
   "metadata": {},
   "outputs": [],
   "source": []
  }
 ],
 "metadata": {
  "kernelspec": {
   "display_name": "base",
   "language": "python",
   "name": "python3"
  },
  "language_info": {
   "codemirror_mode": {
    "name": "ipython",
    "version": 3
   },
   "file_extension": ".py",
   "mimetype": "text/x-python",
   "name": "python",
   "nbconvert_exporter": "python",
   "pygments_lexer": "ipython3",
   "version": "3.12.7"
  }
 },
 "nbformat": 4,
 "nbformat_minor": 5
}
